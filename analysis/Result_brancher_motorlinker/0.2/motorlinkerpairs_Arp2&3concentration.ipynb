{
 "cells": [
  {
   "cell_type": "code",
   "execution_count": 1,
   "metadata": {},
   "outputs": [],
   "source": [
    "import numpy as np\n",
    "import seaborn as sns\n",
    "import pandas as pd\n",
    "import matplotlib as mpl\n",
    "import matplotlib.pyplot as plt\n",
    "%matplotlib inline"
   ]
  },
  {
   "cell_type": "code",
   "execution_count": 2,
   "metadata": {},
   "outputs": [],
   "source": [
    "run -i AnalyzeTrajectory.py"
   ]
  },
  {
   "cell_type": "code",
   "execution_count": 3,
   "metadata": {
    "scrolled": false
   },
   "outputs": [
    {
     "name": "stdout",
     "output_type": "stream",
     "text": [
      "Reading F:/uhpc_backup/Data_MEDYAN/Arp2&3_paper_data/10_14_2020_paperdata_v4_1/branched(0.2)/0.01and0.01/1/Output/snapshot.traj...\n",
      "201 snapshots read.\n",
      "Reading F:/uhpc_backup/Data_MEDYAN/Arp2&3_paper_data/10_14_2020_paperdata_v4_1/branched(0.2)/0.01and0.01/2/Output/snapshot.traj...\n",
      "201 snapshots read.\n"
     ]
    }
   ],
   "source": [
    "snapshotlist1 = readTrajectory('F:/uhpc_backup/Data_MEDYAN/Arp2&3_paper_data/10_14_2020_paperdata_v4_1/branched(0.2)/0.01and0.01/1/Output/snapshot.traj')\n",
    "snapshotlist2 = readTrajectory('F:/uhpc_backup/Data_MEDYAN/Arp2&3_paper_data/10_14_2020_paperdata_v4_1/branched(0.2)/0.01and0.01/2/Output/snapshot.traj')"
   ]
  },
  {
   "cell_type": "code",
   "execution_count": 4,
   "metadata": {},
   "outputs": [
    {
     "name": "stdout",
     "output_type": "stream",
     "text": [
      "Reading F:/uhpc_backup/Data_MEDYAN/Arp2&3_paper_data/10_14_2020_paperdata_v4_1/branched(0.2)/0.01and0.5/1/Output/snapshot.traj...\n",
      "201 snapshots read.\n",
      "Reading F:/uhpc_backup/Data_MEDYAN/Arp2&3_paper_data/10_14_2020_paperdata_v4_1/branched(0.2)/0.01and0.5/2/Output/snapshot.traj...\n",
      "201 snapshots read.\n"
     ]
    }
   ],
   "source": [
    "snapshotlist11 = readTrajectory('F:/uhpc_backup/Data_MEDYAN/Arp2&3_paper_data/10_14_2020_paperdata_v4_1/branched(0.2)/0.01and0.5/1/Output/snapshot.traj')\n",
    "snapshotlist12 = readTrajectory('F:/uhpc_backup/Data_MEDYAN/Arp2&3_paper_data/10_14_2020_paperdata_v4_1/branched(0.2)/0.01and0.5/2/Output/snapshot.traj')"
   ]
  },
  {
   "cell_type": "code",
   "execution_count": 5,
   "metadata": {},
   "outputs": [
    {
     "name": "stdout",
     "output_type": "stream",
     "text": [
      "Reading F:/uhpc_backup/Data_MEDYAN/Arp2&3_paper_data/10_14_2020_paperdata_v4_1/branched(0.2)/0.5and0.01/1/Output/snapshot.traj...\n",
      "201 snapshots read.\n",
      "Reading F:/uhpc_backup/Data_MEDYAN/Arp2&3_paper_data/10_14_2020_paperdata_v4_1/branched(0.2)/0.5and0.01/2/Output/snapshot.traj...\n",
      "201 snapshots read.\n"
     ]
    }
   ],
   "source": [
    "snapshotlist21 = readTrajectory('F:/uhpc_backup/Data_MEDYAN/Arp2&3_paper_data/10_14_2020_paperdata_v4_1/branched(0.2)/0.5and0.01/1/Output/snapshot.traj')\n",
    "snapshotlist22 = readTrajectory('F:/uhpc_backup/Data_MEDYAN/Arp2&3_paper_data/10_14_2020_paperdata_v4_1/branched(0.2)/0.5and0.01/2/Output/snapshot.traj')"
   ]
  },
  {
   "cell_type": "code",
   "execution_count": 6,
   "metadata": {},
   "outputs": [
    {
     "name": "stdout",
     "output_type": "stream",
     "text": [
      "Reading F:/uhpc_backup/Data_MEDYAN/Arp2&3_paper_data/10_14_2020_paperdata_v4_1/branched(0.2)/0.05and0.1/1/Output/snapshot.traj...\n",
      "201 snapshots read.\n",
      "Reading F:/uhpc_backup/Data_MEDYAN/Arp2&3_paper_data/10_14_2020_paperdata_v4_1/branched(0.2)/0.05and0.1/2/Output/snapshot.traj...\n",
      "201 snapshots read.\n"
     ]
    }
   ],
   "source": [
    "snapshotlist31 = readTrajectory('F:/uhpc_backup/Data_MEDYAN/Arp2&3_paper_data/10_14_2020_paperdata_v4_1/branched(0.2)/0.05and0.1/1/Output/snapshot.traj')\n",
    "snapshotlist32 = readTrajectory('F:/uhpc_backup/Data_MEDYAN/Arp2&3_paper_data/10_14_2020_paperdata_v4_1/branched(0.2)/0.05and0.1/2/Output/snapshot.traj')"
   ]
  },
  {
   "cell_type": "code",
   "execution_count": 7,
   "metadata": {},
   "outputs": [
    {
     "name": "stdout",
     "output_type": "stream",
     "text": [
      "Reading F:/uhpc_backup/Data_MEDYAN/Arp2&3_paper_data/10_14_2020_paperdata_v4_1/branched(0.2)/0.5and0.5/1/Output/snapshot.traj...\n",
      "201 snapshots read.\n",
      "Reading F:/uhpc_backup/Data_MEDYAN/Arp2&3_paper_data/10_14_2020_paperdata_v4_1/branched(0.2)/0.5and0.5/2/Output/snapshot.traj...\n",
      "201 snapshots read.\n"
     ]
    }
   ],
   "source": [
    "snapshotlist41 = readTrajectory('F:/uhpc_backup/Data_MEDYAN/Arp2&3_paper_data/10_14_2020_paperdata_v4_1/branched(0.2)/0.5and0.5/1/Output/snapshot.traj')\n",
    "snapshotlist42 = readTrajectory('F:/uhpc_backup/Data_MEDYAN/Arp2&3_paper_data/10_14_2020_paperdata_v4_1/branched(0.2)/0.5and0.5/2/Output/snapshot.traj')"
   ]
  },
  {
   "cell_type": "code",
   "execution_count": 8,
   "metadata": {},
   "outputs": [],
   "source": [
    "Timelist1 = []\n",
    "Rglist1 = []\n",
    "for x in range(1,200,1):\n",
    "    ylist1 = radiusOfGyration(snapshotlist1,x)\n",
    "    Timelist1.append(ylist1[0])\n",
    "    Rglist1.append(ylist1[1])\n",
    "    \n",
    "Timelist2 = []\n",
    "Rglist2 = []\n",
    "for x in range(1,200,1):\n",
    "    ylist2 = radiusOfGyration(snapshotlist2,x)\n",
    "    Timelist2.append(ylist2[0])\n",
    "    Rglist2.append(ylist2[1])\n",
    "    \n",
    "    \n",
    "\n",
    "Rglists1 = [Rglist1, Rglist2] \n",
    "arrays1 = [np.array(x) for x in Rglists1]\n",
    "Rgaveragelist1 = [np.mean(k) for k in zip(*arrays1)]"
   ]
  },
  {
   "cell_type": "code",
   "execution_count": 9,
   "metadata": {},
   "outputs": [],
   "source": [
    "Timelist11 = []\n",
    "Rglist11 = []\n",
    "for x in range(1,200,1):\n",
    "    ylist11 = radiusOfGyration(snapshotlist11,x)\n",
    "    Timelist11.append(ylist11[0])\n",
    "    Rglist11.append(ylist11[1])\n",
    "    \n",
    "Timelist12 = []\n",
    "Rglist12 = []\n",
    "for x in range(1,200,1):\n",
    "    ylist12 = radiusOfGyration(snapshotlist12,x)\n",
    "    Timelist12.append(ylist12[0])\n",
    "    Rglist12.append(ylist12[1])\n",
    "    \n",
    "    \n",
    "\n",
    "Rglists2 = [Rglist11, Rglist12] \n",
    "arrays2 = [np.array(x) for x in Rglists2]\n",
    "Rgaveragelist2 = [np.mean(k) for k in zip(*arrays2)]"
   ]
  },
  {
   "cell_type": "code",
   "execution_count": 10,
   "metadata": {},
   "outputs": [],
   "source": [
    "Timelist21 = []\n",
    "Rglist21 = []\n",
    "for x in range(1,200,1):\n",
    "    ylist21 = radiusOfGyration(snapshotlist21,x)\n",
    "    Timelist21.append(ylist21[0])\n",
    "    Rglist21.append(ylist21[1])\n",
    "    \n",
    "Timelist22 = []\n",
    "Rglist22 = []\n",
    "for x in range(1,200,1):\n",
    "    ylist22 = radiusOfGyration(snapshotlist22,x)\n",
    "    Timelist22.append(ylist22[0])\n",
    "    Rglist22.append(ylist22[1])\n",
    "    \n",
    "    \n",
    "    \n",
    "Rglists3 = [Rglist21, Rglist22] \n",
    "arrays3 = [np.array(x) for x in Rglists3]\n",
    "Rgaveragelist3 = [np.mean(k) for k in zip(*arrays3)]"
   ]
  },
  {
   "cell_type": "code",
   "execution_count": 11,
   "metadata": {},
   "outputs": [],
   "source": [
    "Timelist31 = []\n",
    "Rglist31 = []\n",
    "for x in range(1,200,1):\n",
    "    ylist31 = radiusOfGyration(snapshotlist31,x)\n",
    "    Timelist31.append(ylist31[0])\n",
    "    Rglist31.append(ylist31[1])\n",
    "    \n",
    "Timelist32 = []\n",
    "Rglist32 = []\n",
    "for x in range(1,200,1):\n",
    "    ylist32 = radiusOfGyration(snapshotlist32,x)\n",
    "    Timelist32.append(ylist32[0])\n",
    "    Rglist32.append(ylist32[1])\n",
    "    \n",
    "    \n",
    "    \n",
    "Rglists4 = [Rglist31, Rglist32] \n",
    "arrays4 = [np.array(x) for x in Rglists4]\n",
    "Rgaveragelist4 = [np.mean(k) for k in zip(*arrays4)]"
   ]
  },
  {
   "cell_type": "code",
   "execution_count": 12,
   "metadata": {},
   "outputs": [],
   "source": [
    "Timelist41 = []\n",
    "Rglist41 = []\n",
    "for x in range(1,200,1):\n",
    "    ylist41 = radiusOfGyration(snapshotlist41,x)\n",
    "    Timelist41.append(ylist41[0])\n",
    "    Rglist41.append(ylist41[1])\n",
    "    \n",
    "Timelist42 = []\n",
    "Rglist42 = []\n",
    "for x in range(1,200,1):\n",
    "    ylist42 = radiusOfGyration(snapshotlist42,x)\n",
    "    Timelist42.append(ylist42[0])\n",
    "    Rglist42.append(ylist42[1])\n",
    "\n",
    "    \n",
    "    \n",
    "Rglists5 = [Rglist41, Rglist42] \n",
    "arrays5 = [np.array(x) for x in Rglists5]\n",
    "Rgaveragelist5 = [np.mean(k) for k in zip(*arrays5)]"
   ]
  },
  {
   "cell_type": "code",
   "execution_count": 14,
   "metadata": {
    "scrolled": false
   },
   "outputs": [
    {
     "data": {
      "image/png": "[encoded data removed]",
      "text/plain": [
       "<Figure size 360x360 with 1 Axes>"
      ]
     },
     "metadata": {
      "needs_background": "light"
     },
     "output_type": "display_data"
    }
   ],
   "source": [
    "import matplotlib.pyplot as plt\n",
    "from matplotlib.ticker import (MultipleLocator, AutoMinorLocator)\n",
    "\n",
    "# sns.set_style(\"whitegrid\",{'grid.linestyle': '--'})\n",
    "# sns.set_context(\"paper\")\n",
    "mpl.rc('font',family='Arial')\n",
    "# plt.figure(figsize=(5,5))\n",
    "\n",
    "fig, ax = plt.subplots(figsize=(5,5))\n",
    "\n",
    "ax.plot(Timelist1,Rglist1/Rglist1[0],linestyle='-',color='whitesmoke')\n",
    "ax.plot(Timelist2,Rglist2/Rglist2[0],linestyle='-',color='whitesmoke')\n",
    "ax.plot(Timelist11,Rglist11/Rglist11[0],linestyle='--',color='whitesmoke')\n",
    "ax.plot(Timelist12,Rglist12/Rglist12[0],linestyle='--',color='whitesmoke')\n",
    "ax.plot(Timelist21,Rglist21/Rglist21[0],linestyle=':',color='whitesmoke')\n",
    "ax.plot(Timelist22,Rglist22/Rglist22[0],linestyle=':',color='whitesmoke')\n",
    "ax.plot(Timelist31,Rglist31/Rglist31[0],linestyle='-.',color='whitesmoke')\n",
    "ax.plot(Timelist32,Rglist32/Rglist32[0],linestyle='-.',color='whitesmoke')\n",
    "ax.plot(Timelist41,Rglist41/Rglist41[0],linestyle='-',linewidth=3,color='whitesmoke')\n",
    "ax.plot(Timelist42,Rglist42/Rglist42[0],linestyle='-',linewidth=3,color='whitesmoke')\n",
    "#plt.legend([r'$x_{m:a}$ = 0.01; $x_{l:a}$ = 0.01',r'$x_{m:a}$ = 0.01; $x_{l:a}$ = 0.5',r'$x_{m:a}$ = 0.5  ; $x_{l:a}$ = 0.01',r'$x_{m:a}$ = 0.05; $x_{l:a}$ = 0.1',r'$x_{m:a}$ = 0.5  ; $x_{l:a}$ = 0.5'],fontsize=12,loc='lower right')\n",
    "ax.plot(Timelist1,Rgaveragelist1/Rgaveragelist1[0],linestyle='-',label=r'$x_{m:a}$ = 0.01; $x_{l:a}$ = 0.01',color='black')\n",
    "ax.plot(Timelist11,Rgaveragelist2/Rgaveragelist2[0],linestyle='--',label=r'$x_{m:a}$ = 0.01; $x_{l:a}$ = 0.5',color='black')\n",
    "ax.plot(Timelist21,Rgaveragelist3/Rgaveragelist3[0],linestyle=':',label=r'$x_{m:a}$ = 0.5; $x_{l:a}$ = 0.01',color='black')\n",
    "ax.plot(Timelist31,Rgaveragelist4/Rgaveragelist4[0],linestyle='-.',label=r'$x_{m:a}$ = 0.05; $x_{l:a}$ = 0.1',color='black')\n",
    "ax.plot(Timelist41,Rgaveragelist5/Rgaveragelist5[0],linestyle='-',linewidth=3,label=r'$x_{m:a}$ = 0.5; $x_{l:a}$ = 0.5',color='black')\n",
    "#plt.legend([r'$x_{m:a}$ = 0.01; $x_{l:a}$ = 0.01',r'$x_{m:a}$ = 0.01; $x_{l:a}$ = 0.5',r'$x_{m:a}$ = 0.5  ; $x_{l:a}$ = 0.01',r'$x_{m:a}$ = 0.05; $x_{l:a}$ = 0.1',r'$x_{m:a}$ = 0.5  ; $x_{l:a}$ = 0.5'],fontsize=12,loc='lower right')\n",
    "\n",
    "plt.legend(fontsize=12,loc=\"lower right\")\n",
    "\n",
    "plt.tick_params(labelsize=15)\n",
    "ax.minorticks_on()\n",
    "\n",
    "\n",
    "plt.xlim((0,2000))\n",
    "plt.ylim((0.6,1.1))\n",
    "plt.savefig('./paper_data_branched(0.2)_Rg-Rg,i.png',dpi=1200)\n",
    "plt.show()\n",
    "\n",
    "\n",
    "\n",
    "        \n",
    "        \n",
    "    "
   ]
  },
  {
   "cell_type": "code",
   "execution_count": null,
   "metadata": {},
   "outputs": [],
   "source": []
  },
  {
   "cell_type": "code",
   "execution_count": null,
   "metadata": {},
   "outputs": [],
   "source": []
  },
  {
   "cell_type": "code",
   "execution_count": null,
   "metadata": {},
   "outputs": [],
   "source": []
  }
 ],
 "metadata": {
  "kernelspec": {
   "display_name": "Python 3",
   "language": "python",
   "name": "python3"
  },
  "language_info": {
   "codemirror_mode": {
    "name": "ipython",
    "version": 3
   },
   "file_extension": ".py",
   "mimetype": "text/x-python",
   "name": "python",
   "nbconvert_exporter": "python",
   "pygments_lexer": "ipython3",
   "version": "3.8.8"
  }
 },
 "nbformat": 4,
 "nbformat_minor": 2
}
