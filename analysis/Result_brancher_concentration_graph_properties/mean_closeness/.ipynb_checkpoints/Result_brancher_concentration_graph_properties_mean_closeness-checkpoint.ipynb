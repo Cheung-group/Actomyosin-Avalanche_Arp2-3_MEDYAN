{
 "cells": [
  {
   "cell_type": "code",
   "execution_count": 1,
   "metadata": {},
   "outputs": [],
   "source": [
    "import numpy as np\n",
    "import matplotlib\n",
    "import matplotlib.pyplot as plt\n",
    "%matplotlib inline\n",
    "import scipy.spatial.distance\n",
    "from scipy import stats\n",
    "import networkx as nx\n",
    "import seaborn as sns"
   ]
  },
  {
   "cell_type": "code",
   "execution_count": 2,
   "metadata": {},
   "outputs": [],
   "source": [
    "run -i AnalyzeTrajectory_graphtheory.py"
   ]
  },
  {
   "cell_type": "code",
   "execution_count": 3,
   "metadata": {
    "scrolled": true
   },
   "outputs": [
    {
     "name": "stdout",
     "output_type": "stream",
     "text": [
      "Reading /home/chengxuan/Desktop/MEDYAN_data/10_14_2020_paperdata_v4_1/branched(0.002)/0.5and0.5/1/Output/snapshot.traj...\n",
      "201 snapshots read.\n",
      "Reading /home/chengxuan/Desktop/MEDYAN_data/10_14_2020_paperdata_v4_1/branched(0.02)/0.5and0.5/1/Output/snapshot.traj...\n",
      "201 snapshots read.\n",
      "Reading /home/chengxuan/Desktop/MEDYAN_data/10_14_2020_paperdata_v4_1/branched(0.2)/0.5and0.5/1/Output/snapshot.traj...\n",
      "201 snapshots read.\n"
     ]
    }
   ],
   "source": [
    "snapshotlist11 = readTrajectory('/home/chengxuan/Desktop/MEDYAN_data/10_14_2020_paperdata_v4_1/branched(0.002)/0.5and0.5/1/Output/snapshot.traj')\n",
    "snapshotlist12 = readTrajectory('/home/chengxuan/Desktop/MEDYAN_data/10_14_2020_paperdata_v4_1/branched(0.02)/0.5and0.5/1/Output/snapshot.traj')\n",
    "snapshotlist13 = readTrajectory('/home/chengxuan/Desktop/MEDYAN_data/10_14_2020_paperdata_v4_1/branched(0.2)/0.5and0.5/1/Output/snapshot.traj')"
   ]
  },
  {
   "cell_type": "code",
   "execution_count": 4,
   "metadata": {},
   "outputs": [
    {
     "name": "stdout",
     "output_type": "stream",
     "text": [
      "Reading /home/chengxuan/Desktop/MEDYAN_data/10_14_2020_paperdata_v4_1/branched(0.002)/0.5and0.5/2/Output/snapshot.traj...\n",
      "201 snapshots read.\n",
      "Reading /home/chengxuan/Desktop/MEDYAN_data/10_14_2020_paperdata_v4_1/branched(0.02)/0.5and0.5/2/Output/snapshot.traj...\n",
      "201 snapshots read.\n",
      "Reading /home/chengxuan/Desktop/MEDYAN_data/10_14_2020_paperdata_v4_1/branched(0.2)/0.5and0.5/2/Output/snapshot.traj...\n",
      "201 snapshots read.\n"
     ]
    }
   ],
   "source": [
    "snapshotlist21 = readTrajectory('/home/chengxuan/Desktop/MEDYAN_data/10_14_2020_paperdata_v4_1/branched(0.002)/0.5and0.5/2/Output/snapshot.traj')\n",
    "snapshotlist22 = readTrajectory('/home/chengxuan/Desktop/MEDYAN_data/10_14_2020_paperdata_v4_1/branched(0.02)/0.5and0.5/2/Output/snapshot.traj')\n",
    "snapshotlist23 = readTrajectory('/home/chengxuan/Desktop/MEDYAN_data/10_14_2020_paperdata_v4_1/branched(0.2)/0.5and0.5/2/Output/snapshot.traj')"
   ]
  },
  {
   "cell_type": "code",
   "execution_count": 5,
   "metadata": {},
   "outputs": [
    {
     "name": "stdout",
     "output_type": "stream",
     "text": [
      "Reading /home/chengxuan/Desktop/MEDYAN_data/10_14_2020_paperdata_v4_1/branched(0.002)/0.5and0.5/3/Output/snapshot.traj...\n",
      "201 snapshots read.\n",
      "Reading /home/chengxuan/Desktop/MEDYAN_data/10_14_2020_paperdata_v4_1/branched(0.02)/0.5and0.5/3/Output/snapshot.traj...\n",
      "201 snapshots read.\n",
      "Reading /home/chengxuan/Desktop/MEDYAN_data/10_14_2020_paperdata_v4_1/branched(0.2)/0.5and0.5/3/Output/snapshot.traj...\n",
      "201 snapshots read.\n"
     ]
    }
   ],
   "source": [
    "snapshotlist31 = readTrajectory('/home/chengxuan/Desktop/MEDYAN_data/10_14_2020_paperdata_v4_1/branched(0.002)/0.5and0.5/3/Output/snapshot.traj')\n",
    "snapshotlist32 = readTrajectory('/home/chengxuan/Desktop/MEDYAN_data/10_14_2020_paperdata_v4_1/branched(0.02)/0.5and0.5/3/Output/snapshot.traj')\n",
    "snapshotlist33 = readTrajectory('/home/chengxuan/Desktop/MEDYAN_data/10_14_2020_paperdata_v4_1/branched(0.2)/0.5and0.5/3/Output/snapshot.traj')"
   ]
  },
  {
   "cell_type": "code",
   "execution_count": 6,
   "metadata": {},
   "outputs": [
    {
     "name": "stdout",
     "output_type": "stream",
     "text": [
      "Reading /home/chengxuan/Desktop/MEDYAN_data/10_14_2020_paperdata_v4_1/branched(0.002)/0.5and0.5/4/Output/snapshot.traj...\n",
      "201 snapshots read.\n",
      "Reading /home/chengxuan/Desktop/MEDYAN_data/10_14_2020_paperdata_v4_1/branched(0.02)/0.5and0.5/4/Output/snapshot.traj...\n",
      "201 snapshots read.\n",
      "Reading /home/chengxuan/Desktop/MEDYAN_data/10_14_2020_paperdata_v4_1/branched(0.2)/0.5and0.5/4/Output/snapshot.traj...\n",
      "201 snapshots read.\n"
     ]
    }
   ],
   "source": [
    "snapshotlist41 = readTrajectory('/home/chengxuan/Desktop/MEDYAN_data/10_14_2020_paperdata_v4_1/branched(0.002)/0.5and0.5/4/Output/snapshot.traj')\n",
    "snapshotlist42 = readTrajectory('/home/chengxuan/Desktop/MEDYAN_data/10_14_2020_paperdata_v4_1/branched(0.02)/0.5and0.5/4/Output/snapshot.traj')\n",
    "snapshotlist43 = readTrajectory('/home/chengxuan/Desktop/MEDYAN_data/10_14_2020_paperdata_v4_1/branched(0.2)/0.5and0.5/4/Output/snapshot.traj')"
   ]
  },
  {
   "cell_type": "code",
   "execution_count": 7,
   "metadata": {},
   "outputs": [
    {
     "name": "stdout",
     "output_type": "stream",
     "text": [
      "Reading /home/chengxuan/Desktop/MEDYAN_data/10_14_2020_paperdata_v4_1/branched(0.002)/0.5and0.5/5/Output/snapshot.traj...\n",
      "201 snapshots read.\n",
      "Reading /home/chengxuan/Desktop/MEDYAN_data/10_14_2020_paperdata_v4_1/branched(0.02)/0.5and0.5/5/Output/snapshot.traj...\n",
      "201 snapshots read.\n",
      "Reading /home/chengxuan/Desktop/MEDYAN_data/10_14_2020_paperdata_v4_1/branched(0.2)/0.5and0.5/5/Output/snapshot.traj...\n",
      "201 snapshots read.\n"
     ]
    }
   ],
   "source": [
    "snapshotlist51 = readTrajectory('/home/chengxuan/Desktop/MEDYAN_data/10_14_2020_paperdata_v4_1/branched(0.002)/0.5and0.5/5/Output/snapshot.traj')\n",
    "snapshotlist52 = readTrajectory('/home/chengxuan/Desktop/MEDYAN_data/10_14_2020_paperdata_v4_1/branched(0.02)/0.5and0.5/5/Output/snapshot.traj')\n",
    "snapshotlist53 = readTrajectory('/home/chengxuan/Desktop/MEDYAN_data/10_14_2020_paperdata_v4_1/branched(0.2)/0.5and0.5/5/Output/snapshot.traj')"
   ]
  },
  {
   "cell_type": "code",
   "execution_count": 8,
   "metadata": {},
   "outputs": [],
   "source": [
    "# xs4 = [x[0] for x in clique_numberlist(snapshotlist1)]\n",
    "# ys4 = [x[1] for x in clique_numberlist(snapshotlist1)]\n",
    "# xs5 = [x[0] for x in clique_numberlist(snapshotlist2)]\n",
    "# ys5 = [x[1] for x in clique_numberlist(snapshotlist2)]\n",
    "# xs6 = [x[0] for x in clique_numberlist(snapshotlist3)]\n",
    "# ys6 = [x[1] for x in clique_numberlist(snapshotlist3)]\n",
    "# xs7 = [x[0] for x in closeness_centlist(snapshotlist1)]\n",
    "# ys7 = [x[1] for x in closeness_centlist(snapshotlist1)]\n",
    "# xs8 = [x[0] for x in closeness_centlist(snapshotlist2)]\n",
    "# ys8 = [x[1] for x in closeness_centlist(snapshotlist2)]\n",
    "# xs9 = [x[0] for x in closeness_centlist(snapshotlist3)]\n",
    "# ys9 = [x[1] for x in closeness_centlist(snapshotlist3)]\n",
    "# xs10 = [x[0] for x in assortlist(snapshotlist1)]\n",
    "# ys10 = [x[1] for x in assortlist(snapshotlist1)]\n",
    "# xs11 = [x[0] for x in assortlist(snapshotlist2)]\n",
    "# ys11 = [x[1] for x in assortlist(snapshotlist2)]\n",
    "# xs12 = [x[0] for x in assortlist(snapshotlist3)]\n",
    "# ys12 = [x[1] for x in assortlist(snapshotlist3)]"
   ]
  },
  {
   "cell_type": "code",
   "execution_count": 9,
   "metadata": {},
   "outputs": [],
   "source": [
    "xs11 = [x[0] for x in closeness_centlist(snapshotlist11)]\n",
    "ys11 = [x[1] for x in closeness_centlist(snapshotlist11)]\n",
    "xs21 = [x[0] for x in closeness_centlist(snapshotlist21)]\n",
    "ys21 = [x[1] for x in closeness_centlist(snapshotlist21)]\n",
    "xs31 = [x[0] for x in closeness_centlist(snapshotlist31)]\n",
    "ys31 = [x[1] for x in closeness_centlist(snapshotlist31)]\n",
    "xs41 = [x[0] for x in closeness_centlist(snapshotlist41)]\n",
    "ys41 = [x[1] for x in closeness_centlist(snapshotlist41)]\n",
    "xs51 = [x[0] for x in closeness_centlist(snapshotlist51)]\n",
    "ys51 = [x[1] for x in closeness_centlist(snapshotlist51)]\n",
    "ys1 = [ys11, ys21,ys31,ys41,ys51] \n",
    "arrays1 = [np.array(x) for x in ys1]\n",
    "aveys1 = [np.mean(k) for k in zip(*arrays1)]"
   ]
  },
  {
   "cell_type": "code",
   "execution_count": 10,
   "metadata": {},
   "outputs": [],
   "source": [
    "xs12 = [x[0] for x in closeness_centlist(snapshotlist12)]\n",
    "ys12 = [x[1] for x in closeness_centlist(snapshotlist12)]\n",
    "xs22 = [x[0] for x in closeness_centlist(snapshotlist22)]\n",
    "ys22 = [x[1] for x in closeness_centlist(snapshotlist22)]\n",
    "xs32 = [x[0] for x in closeness_centlist(snapshotlist32)]\n",
    "ys32 = [x[1] for x in closeness_centlist(snapshotlist32)]\n",
    "xs42 = [x[0] for x in closeness_centlist(snapshotlist42)]\n",
    "ys42 = [x[1] for x in closeness_centlist(snapshotlist42)]\n",
    "xs52 = [x[0] for x in closeness_centlist(snapshotlist52)]\n",
    "ys52 = [x[1] for x in closeness_centlist(snapshotlist52)]\n",
    "ys2 = [ys12, ys22,ys32,ys42,ys52] \n",
    "arrays2 = [np.array(x) for x in ys2]\n",
    "aveys2 = [np.mean(k) for k in zip(*arrays2)]"
   ]
  },
  {
   "cell_type": "code",
   "execution_count": 11,
   "metadata": {},
   "outputs": [],
   "source": [
    "xs13 = [x[0] for x in closeness_centlist(snapshotlist13)]\n",
    "ys13 = [x[1] for x in closeness_centlist(snapshotlist13)]\n",
    "xs23 = [x[0] for x in closeness_centlist(snapshotlist23)]\n",
    "ys23 = [x[1] for x in closeness_centlist(snapshotlist23)]\n",
    "xs33 = [x[0] for x in closeness_centlist(snapshotlist33)]\n",
    "ys33 = [x[1] for x in closeness_centlist(snapshotlist33)]\n",
    "xs43 = [x[0] for x in closeness_centlist(snapshotlist43)]\n",
    "ys43 = [x[1] for x in closeness_centlist(snapshotlist43)]\n",
    "xs53 = [x[0] for x in closeness_centlist(snapshotlist53)]\n",
    "ys53 = [x[1] for x in closeness_centlist(snapshotlist53)]\n",
    "ys3 = [ys13, ys23,ys33,ys43,ys53] \n",
    "arrays3 = [np.array(x) for x in ys3]\n",
    "aveys3 = [np.mean(k) for k in zip(*arrays3)]"
   ]
  },
  {
   "cell_type": "code",
   "execution_count": null,
   "metadata": {},
   "outputs": [],
   "source": []
  },
  {
   "cell_type": "code",
   "execution_count": 12,
   "metadata": {
    "scrolled": true
   },
   "outputs": [
    {
     "data": {
      "image/png": "[encoded data removed]",
      "text/plain": [
       "<Figure size 360x360 with 1 Axes>"
      ]
     },
     "metadata": {
      "needs_background": "light"
     },
     "output_type": "display_data"
    }
   ],
   "source": [
    "# sns.set_style(\"whitegrid\",{'grid.linestyle': '--'})\n",
    "# sns.set_context(\"paper\")\n",
    "mpl.rc('font',family='Arial')\n",
    "# plt.figure(figsize=(5,5))  \n",
    "\n",
    "import matplotlib.pyplot as plt\n",
    "from matplotlib.ticker import (MultipleLocator, AutoMinorLocator)\n",
    "\n",
    "fig, ax = plt.subplots(figsize=(5,5))\n",
    "\n",
    "ax.plot(xs11,ys11,linestyle='-',color='whitesmoke')\n",
    "ax.plot(xs21,ys21,linestyle='-',color='whitesmoke')\n",
    "ax.plot(xs31,ys31,linestyle='-',color='whitesmoke')\n",
    "ax.plot(xs41,ys41,linestyle='-',color='whitesmoke')\n",
    "ax.plot(xs51,ys51,linestyle='-',color='whitesmoke')\n",
    "ax.plot(xs11,aveys1,label=r'$x_{b:a}$ = 0.002',linestyle='-',color='black')\n",
    "\n",
    "ax.plot(xs12,ys12,linestyle='--',color='whitesmoke')\n",
    "ax.plot(xs22,ys22,linestyle='--',color='whitesmoke')\n",
    "ax.plot(xs32,ys32,linestyle='--',color='whitesmoke')\n",
    "ax.plot(xs42,ys42,linestyle='--',color='whitesmoke')\n",
    "ax.plot(xs52,ys52,linestyle='--',color='whitesmoke')\n",
    "ax.plot(xs12,aveys2,label=r'$x_{b:a}$ = 0.02',linestyle='--',color='black')\n",
    "\n",
    "ax.plot(xs13,ys13,linestyle=':',color='whitesmoke')\n",
    "ax.plot(xs23,ys23,linestyle=':',color='whitesmoke')\n",
    "ax.plot(xs33,ys33,linestyle=':',color='whitesmoke')\n",
    "ax.plot(xs43,ys43,linestyle=':',color='whitesmoke')\n",
    "ax.plot(xs53,ys53,linestyle=':',color='whitesmoke')\n",
    "ax.plot(xs13,aveys3,label=r'$x_{b:a}$ = 0.2',linestyle=':',color='black')\n",
    "plt.tick_params(labelsize=18)\n",
    "\n",
    "ax.minorticks_on()\n",
    "\n",
    "plt.xlim((0,2000))\n",
    "plt.ylim((0,0.003))\n",
    "# plt.legend(fontsize='18',loc='upper right')\n",
    "\n",
    "plt.savefig('./mean_closeness_0.5and0.5.png',dpi=1200, bbox_inches = \"tight\")\n",
    "plt.show()"
   ]
  },
  {
   "cell_type": "code",
   "execution_count": null,
   "metadata": {},
   "outputs": [],
   "source": []
  },
  {
   "cell_type": "code",
   "execution_count": null,
   "metadata": {},
   "outputs": [],
   "source": []
  },
  {
   "cell_type": "code",
   "execution_count": null,
   "metadata": {},
   "outputs": [],
   "source": []
  }
 ],
 "metadata": {
  "kernelspec": {
   "display_name": "Python 3",
   "language": "python",
   "name": "python3"
  },
  "language_info": {
   "codemirror_mode": {
    "name": "ipython",
    "version": 3
   },
   "file_extension": ".py",
   "mimetype": "text/x-python",
   "name": "python",
   "nbconvert_exporter": "python",
   "pygments_lexer": "ipython3",
   "version": "3.7.4"
  }
 },
 "nbformat": 4,
 "nbformat_minor": 2
}
