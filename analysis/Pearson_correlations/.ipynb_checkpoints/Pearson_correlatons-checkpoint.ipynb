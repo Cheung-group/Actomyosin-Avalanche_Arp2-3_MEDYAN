{
 "cells": [
  {
   "cell_type": "code",
   "execution_count": 1,
   "metadata": {},
   "outputs": [],
   "source": [
    "import numpy as np\n",
    "import seaborn as sb\n",
    "import pandas as pd\n",
    "import matplotlib\n",
    "import matplotlib.pyplot as plt\n",
    "%matplotlib inline\n",
    "import csv"
   ]
  },
  {
   "cell_type": "code",
   "execution_count": 2,
   "metadata": {},
   "outputs": [],
   "source": [
    "run -i AnalyzeTrajectory.py"
   ]
  },
  {
   "cell_type": "code",
   "execution_count": 3,
   "metadata": {
    "scrolled": false
   },
   "outputs": [
    {
     "name": "stdout",
     "output_type": "stream",
     "text": [
      "Reading /home/chengxuan/Desktop/MEDYAN_data/12_22_2019/branched(0.002)/0.01and0.01/1/Output/snapshot.traj...\n",
      "201 snapshots read.\n"
     ]
    }
   ],
   "source": [
    "snapshotlist1 = readTrajectory('/home/chengxuan/Desktop/MEDYAN_data/12_22_2019/branched(0.002)/0.01and0.01/1/Output/snapshot.traj')"
   ]
  },
  {
   "cell_type": "code",
   "execution_count": 4,
   "metadata": {},
   "outputs": [
    {
     "name": "stdout",
     "output_type": "stream",
     "text": [
      "            Time        rg  mean_displacement\n",
      "0      10.004188  0.430587           0.000000\n",
      "1      20.011943  0.430826          12.441686\n",
      "2      30.019599  0.429092          12.206213\n",
      "3      40.026832  0.428599          11.530747\n",
      "4      50.034226  0.430660          15.604347\n",
      "..           ...       ...                ...\n",
      "195  1961.825548  0.458696           8.706099\n",
      "196  1971.834050  0.458745           7.734600\n",
      "197  1981.843530  0.460048           8.259170\n",
      "198  1991.853520  0.459850          10.278836\n",
      "199  2000.011371  0.459742           9.112886\n",
      "\n",
      "[200 rows x 3 columns]\n"
     ]
    }
   ],
   "source": [
    "Timelist1 = []\n",
    "Rglist1 = []\n",
    "for x in range(1,len(snapshotlist1),1):\n",
    "    y1 = radiusOfGyration(snapshotlist1,x)\n",
    "    Timelist1.append(y1[0])\n",
    "    Rglist1.append(y1[1])\n",
    "    \n",
    "pair1 = meanDisplacement(snapshotlist1)\n",
    "x1=[]\n",
    "y1=[]\n",
    "for p in pair1:\n",
    "    x1.append(p[0])\n",
    "    y1.append(p[1])\n",
    "    absy1=[abs(m) for m in y1]\n",
    "    mx1=x1[1:]\n",
    "    mabsy1=absy1[1:]\n",
    "mabsy1[0]=0"
   ]
  },
  {
   "cell_type": "code",
   "execution_count": 5,
   "metadata": {},
   "outputs": [],
   "source": [
    "# S=shapeparameter(snapshotlist1,87)\n",
    "# print(S)\n",
    "# S_value=S[1]"
   ]
  },
  {
   "cell_type": "code",
   "execution_count": 6,
   "metadata": {},
   "outputs": [],
   "source": [
    "run -i AnalyzeTrajectory_graphtheory.py"
   ]
  },
  {
   "cell_type": "code",
   "execution_count": 7,
   "metadata": {},
   "outputs": [
    {
     "name": "stdout",
     "output_type": "stream",
     "text": [
      "Reading /home/chengxuan/Desktop/MEDYAN_data/12_22_2019/branched(0.002)/0.01and0.01/1/Output/snapshot.traj...\n",
      "201 snapshots read.\n"
     ]
    }
   ],
   "source": [
    "snapshotlist1 = readTrajectory('/home/chengxuan/Desktop/MEDYAN_data/12_22_2019/branched(0.002)/0.01and0.01/1/Output/snapshot.traj')"
   ]
  },
  {
   "cell_type": "code",
   "execution_count": 10,
   "metadata": {},
   "outputs": [],
   "source": [
    "densitylist1 = []\n",
    "for x in range(1,len(snapshotlist1),1):\n",
    "    y1 = dens(snapshotlist1,x)\n",
    "    densitylist1.append(y1[1])\n",
    "    \n",
    "cliquelist1 = []\n",
    "for x in range(1,len(snapshotlist1),1):\n",
    "    y1 = clique_number(snapshotlist1,x)\n",
    "    cliquelist1.append(y1[1])\n",
    "    \n",
    "ave_clusteringlist1 = []\n",
    "for x in range(1,len(snapshotlist1),1):\n",
    "    y1 = average_clustering(snapshotlist1,x)\n",
    "    ave_clusteringlist1.append(y1[1])\n",
    "\n",
    "mean_closenesslist1 = []\n",
    "for x in range(1,len(snapshotlist1),1):\n",
    "    y1 = closeness_cent(snapshotlist1,x)\n",
    "    mean_closenesslist1.append(y1[1])\n",
    "    \n",
    "mean_betweennesslist1 = []\n",
    "for x in range(1,len(snapshotlist1),1):\n",
    "    y1 = mean_betweenness_cent(snapshotlist1,x)\n",
    "    mean_betweennesslist1.append(y1[1])\n",
    "    \n",
    "assortativitylist1 = []\n",
    "for x in range(1,len(snapshotlist1),1):\n",
    "    y1 = assort(snapshotlist1,x)\n",
    "    assortativitylist1.append(y1[1])"
   ]
  },
  {
   "cell_type": "code",
   "execution_count": 11,
   "metadata": {},
   "outputs": [
    {
     "name": "stdout",
     "output_type": "stream",
     "text": [
      "            Time        rg  mean_displacement   density  clique_number  \\\n",
      "0      10.004188  0.430587           0.000000  0.001360              3   \n",
      "1      20.011943  0.430826          12.441686  0.001353              3   \n",
      "2      30.019599  0.429092          12.206213  0.001362              3   \n",
      "3      40.026832  0.428599          11.530747  0.001358              3   \n",
      "4      50.034226  0.430660          15.604347  0.001360              3   \n",
      "..           ...       ...                ...       ...            ...   \n",
      "195  1961.825548  0.458696           8.706099  0.001375              3   \n",
      "196  1971.834050  0.458745           7.734600  0.001380              3   \n",
      "197  1981.843530  0.460048           8.259170  0.001375              3   \n",
      "198  1991.853520  0.459850          10.278836  0.001373              3   \n",
      "199  2000.011371  0.459742           9.112886  0.001373              3   \n",
      "\n",
      "     average_clustering  mean_closeness  mean_betweenness  assortativity  \n",
      "0              0.006757        0.000143      2.925554e-08       0.900078  \n",
      "1              0.003268        0.000139      3.318950e-08       0.906181  \n",
      "2              0.013497        0.000144      2.544659e-08       0.915918  \n",
      "3              0.011635        0.000144      2.760711e-08       0.905152  \n",
      "4              0.016422        0.000148      3.490480e-08       0.918106  \n",
      "..                  ...             ...               ...            ...  \n",
      "195            0.045752        0.000114      1.267649e-08       0.966374  \n",
      "196            0.047604        0.000118      1.425172e-08       0.949618  \n",
      "197            0.045868        0.000110      9.707673e-09       0.971625  \n",
      "198            0.043799        0.000113      1.262847e-08       0.965729  \n",
      "199            0.042432        0.000111      1.425172e-08       0.966930  \n",
      "\n",
      "[200 rows x 9 columns]\n"
     ]
    }
   ],
   "source": [
    "data={'Time': Timelist1, \n",
    "     'rg': Rglist1,\n",
    "     'mean_displacement': mabsy1,\n",
    "     'density': densitylist1,\n",
    "     'clique_number': cliquelist1,\n",
    "     'average_clustering': ave_clusteringlist1,\n",
    "     'mean_closeness':mean_closenesslist1,\n",
    "     'mean_betweenness':mean_betweennesslist1,\n",
    "     'assortativity':assortativitylist1}\n",
    "df=pd.DataFrame(data)\n",
    "print(df)"
   ]
  },
  {
   "cell_type": "code",
   "execution_count": 12,
   "metadata": {},
   "outputs": [],
   "source": [
    "df.to_csv('correlation.csv')"
   ]
  },
  {
   "cell_type": "code",
   "execution_count": null,
   "metadata": {},
   "outputs": [],
   "source": []
  }
 ],
 "metadata": {
  "kernelspec": {
   "display_name": "Python 3",
   "language": "python",
   "name": "python3"
  },
  "language_info": {
   "codemirror_mode": {
    "name": "ipython",
    "version": 3
   },
   "file_extension": ".py",
   "mimetype": "text/x-python",
   "name": "python",
   "nbconvert_exporter": "python",
   "pygments_lexer": "ipython3",
   "version": "3.7.4"
  }
 },
 "nbformat": 4,
 "nbformat_minor": 2
}
