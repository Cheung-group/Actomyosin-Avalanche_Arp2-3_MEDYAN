{
 "cells": [
  {
   "cell_type": "code",
   "execution_count": 1,
   "metadata": {},
   "outputs": [],
   "source": [
    "import numpy as np\n",
    "import seaborn as sb\n",
    "import pandas as pd\n",
    "import matplotlib\n",
    "import matplotlib.pyplot as plt\n",
    "%matplotlib inline\n",
    "import csv"
   ]
  },
  {
   "cell_type": "code",
   "execution_count": 2,
   "metadata": {},
   "outputs": [],
   "source": [
    "run -i AnalyzeTrajectory.py"
   ]
  },
  {
   "cell_type": "code",
   "execution_count": 3,
   "metadata": {
    "scrolled": false
   },
   "outputs": [
    {
     "name": "stdout",
     "output_type": "stream",
     "text": [
      "Reading /home/chengxuan/Desktop/MEDYAN_data/10_14_2020_paperdata_v4_1/branched(0.002)/0.5and0.5/2/Output/snapshot.traj...\n",
      "201 snapshots read.\n"
     ]
    }
   ],
   "source": [
    "snapshotlist1 = readTrajectory('/home/chengxuan/Desktop/MEDYAN_data/10_14_2020_paperdata_v4_1/branched(0.002)/0.5and0.5/2/Output/snapshot.traj')"
   ]
  },
  {
   "cell_type": "code",
   "execution_count": 4,
   "metadata": {},
   "outputs": [],
   "source": [
    "Timelist1 = []\n",
    "Rglist1 = []\n",
    "for x in range(1,len(snapshotlist1),1):\n",
    "    y1 = radiusOfGyration(snapshotlist1,x)\n",
    "    Timelist1.append(y1[0])\n",
    "    Rglist1.append(y1[1])\n",
    "    \n",
    "pair1 = meanDisplacement(snapshotlist1)\n",
    "x1=[]\n",
    "y1=[]\n",
    "for p in pair1:\n",
    "    x1.append(p[0])\n",
    "    y1.append(p[1])\n",
    "    absy1=[abs(m) for m in y1]\n",
    "    mx1=x1[1:]\n",
    "    mabsy1=absy1[1:]\n",
    "mabsy1[0]=0"
   ]
  },
  {
   "cell_type": "code",
   "execution_count": 5,
   "metadata": {},
   "outputs": [],
   "source": [
    "run -i AnalyzeTrajectory_graphtheory.py"
   ]
  },
  {
   "cell_type": "code",
   "execution_count": 6,
   "metadata": {
    "scrolled": true
   },
   "outputs": [
    {
     "name": "stdout",
     "output_type": "stream",
     "text": [
      "Reading /home/chengxuan/Desktop/MEDYAN_data/10_14_2020_paperdata_v4_1/branched(0.002)/0.5and0.5/2/Output/snapshot.traj...\n",
      "201 snapshots read.\n"
     ]
    }
   ],
   "source": [
    "snapshotlist1 = readTrajectory('/home/chengxuan/Desktop/MEDYAN_data/10_14_2020_paperdata_v4_1/branched(0.002)/0.5and0.5/2/Output/snapshot.traj')"
   ]
  },
  {
   "cell_type": "code",
   "execution_count": 7,
   "metadata": {},
   "outputs": [],
   "source": [
    "shapelist1 = []\n",
    "for x in range(1,len(snapshotlist1),1):\n",
    "    y1 = shape_parameter(snapshotlist1,x)\n",
    "    shapelist1.append(y1[1])\n",
    "\n",
    "densitylist1 = []\n",
    "for x in range(1,len(snapshotlist1),1):\n",
    "    y1 = dens(snapshotlist1,x)\n",
    "    densitylist1.append(y1[1])\n",
    "    \n",
    "cliquelist1 = []\n",
    "for x in range(1,len(snapshotlist1),1):\n",
    "    y1 = clique_number(snapshotlist1,x)\n",
    "    cliquelist1.append(y1[1])\n",
    "    \n",
    "ave_clusteringlist1 = []\n",
    "for x in range(1,len(snapshotlist1),1):\n",
    "    y1 = average_clustering(snapshotlist1,x)\n",
    "    ave_clusteringlist1.append(y1[1])\n",
    "\n",
    "mean_closenesslist1 = []\n",
    "for x in range(1,len(snapshotlist1),1):\n",
    "    y1 = closeness_cent(snapshotlist1,x)\n",
    "    mean_closenesslist1.append(y1[1])\n",
    "    \n",
    "mean_betweennesslist1 = []\n",
    "for x in range(1,len(snapshotlist1),1):\n",
    "    y1 = mean_betweenness_cent(snapshotlist1,x)\n",
    "    mean_betweennesslist1.append(y1[1])\n",
    "    \n",
    "assortativitylist1 = []\n",
    "for x in range(1,len(snapshotlist1),1):\n",
    "    y1 = assort(snapshotlist1,x)\n",
    "    assortativitylist1.append(y1[1])"
   ]
  },
  {
   "cell_type": "code",
   "execution_count": 8,
   "metadata": {},
   "outputs": [],
   "source": [
    "data={'Time': Timelist1, \n",
    "     'rg': Rglist1,\n",
    "     'mean_displacement': mabsy1,\n",
    "     'shape':shapelist1,\n",
    "     'density': densitylist1,\n",
    "     'clique_number': cliquelist1,\n",
    "     'average_clustering': ave_clusteringlist1,\n",
    "     'mean_closeness':mean_closenesslist1,\n",
    "     'mean_betweenness':mean_betweennesslist1,\n",
    "     'assortativity':assortativitylist1}\n",
    "df=pd.DataFrame(data)\n",
    "#print(df)"
   ]
  },
  {
   "cell_type": "code",
   "execution_count": 9,
   "metadata": {},
   "outputs": [],
   "source": [
    "df.to_csv('correlation_data_58.csv')"
   ]
  },
  {
   "cell_type": "code",
   "execution_count": 10,
   "metadata": {},
   "outputs": [
    {
     "data": {
      "text/plain": [
       "[<matplotlib.lines.Line2D at 0x7feda84697d0>]"
      ]
     },
     "execution_count": 10,
     "metadata": {},
     "output_type": "execute_result"
    },
    {
     "data": {
      "image/png": "[encoded data removed]",
      "text/plain": [
       "<Figure size 432x288 with 1 Axes>"
      ]
     },
     "metadata": {
      "needs_background": "light"
     },
     "output_type": "display_data"
    }
   ],
   "source": [
    "plt.plot(shapelist1)"
   ]
  }
 ],
 "metadata": {
  "kernelspec": {
   "display_name": "Python 3",
   "language": "python",
   "name": "python3"
  },
  "language_info": {
   "codemirror_mode": {
    "name": "ipython",
    "version": 3
   },
   "file_extension": ".py",
   "mimetype": "text/x-python",
   "name": "python",
   "nbconvert_exporter": "python",
   "pygments_lexer": "ipython3",
   "version": "3.7.4"
  }
 },
 "nbformat": 4,
 "nbformat_minor": 2
}
