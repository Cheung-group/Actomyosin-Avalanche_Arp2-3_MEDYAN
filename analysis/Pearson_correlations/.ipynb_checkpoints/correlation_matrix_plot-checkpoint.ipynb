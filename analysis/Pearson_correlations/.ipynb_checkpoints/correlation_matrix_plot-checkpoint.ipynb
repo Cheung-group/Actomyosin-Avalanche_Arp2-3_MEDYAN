{
 "cells": [
  {
   "cell_type": "code",
   "execution_count": 1,
   "metadata": {},
   "outputs": [],
   "source": [
    "import numpy as np\n",
    "import seaborn as sns\n",
    "import pandas as pd\n",
    "import matplotlib\n",
    "import matplotlib.pyplot as plt\n",
    "%matplotlib inline\n",
    "from pandas_profiling import ProfileReport\n",
    "import glob\n",
    "import os"
   ]
  },
  {
   "cell_type": "code",
   "execution_count": 2,
   "metadata": {},
   "outputs": [
    {
     "name": "stdout",
     "output_type": "stream",
     "text": [
      "     Unnamed: 0         Time        rg  mean_displacement     shape   density  \\\n",
      "0             0    10.004578  0.476249           0.000000  0.001247  0.001360   \n",
      "1             1    20.013269  0.443915          55.140268  0.001491  0.001382   \n",
      "2             2    30.020397  0.429953          50.291421  0.000781  0.001392   \n",
      "3             3    40.028026  0.413413          49.542963  0.002183  0.001388   \n",
      "4             4    50.035703  0.396525          52.880606 -0.000384  0.001404   \n",
      "..          ...          ...       ...                ...       ...       ...   \n",
      "195         195  1960.210261  0.381531           6.430485 -0.001045  0.001465   \n",
      "196         196  1970.211223  0.382409           5.566823 -0.001161  0.001449   \n",
      "197         197  1980.212226  0.382124           7.064615 -0.001267  0.001464   \n",
      "198         198  1990.213208  0.382152           6.479632 -0.000803  0.001463   \n",
      "199         199  2000.014284  0.381272           6.034650 -0.000905  0.001461   \n",
      "\n",
      "     clique_number  average_clustering  mean_closeness  mean_betweenness  \\\n",
      "0              3.0            0.001436        0.000139      2.054588e-08   \n",
      "1              3.0            0.009798        0.000171      3.911007e-08   \n",
      "2              3.0            0.003472        0.000186      7.283252e-08   \n",
      "3              4.0            0.008821        0.000172      5.556727e-08   \n",
      "4              4.0            0.015829        0.000202      9.449790e-08   \n",
      "..             ...                 ...             ...               ...   \n",
      "195            4.0            0.120933        0.000558      3.183952e-07   \n",
      "196            4.0            0.119005        0.000541      2.914492e-07   \n",
      "197            4.0            0.130369        0.000566      3.166979e-07   \n",
      "198            4.0            0.119411        0.000556      3.332482e-07   \n",
      "199            4.0            0.118066        0.000557      3.243762e-07   \n",
      "\n",
      "     assortativity  \n",
      "0         0.892341  \n",
      "1         0.903483  \n",
      "2         0.893616  \n",
      "3         0.924630  \n",
      "4         0.902335  \n",
      "..             ...  \n",
      "195       0.815143  \n",
      "196       0.808140  \n",
      "197       0.813121  \n",
      "198       0.819382  \n",
      "199       0.810699  \n",
      "\n",
      "[175800 rows x 11 columns]\n",
      "            Time        rg  mean_displacement     shape   density  \\\n",
      "0      10.004578  0.476249           0.000000  0.001247  0.001360   \n",
      "1      20.013269  0.443915          55.140268  0.001491  0.001382   \n",
      "2      30.020397  0.429953          50.291421  0.000781  0.001392   \n",
      "3      40.028026  0.413413          49.542963  0.002183  0.001388   \n",
      "4      50.035703  0.396525          52.880606 -0.000384  0.001404   \n",
      "..           ...       ...                ...       ...       ...   \n",
      "195  1960.210261  0.381531           6.430485 -0.001045  0.001465   \n",
      "196  1970.211223  0.382409           5.566823 -0.001161  0.001449   \n",
      "197  1980.212226  0.382124           7.064615 -0.001267  0.001464   \n",
      "198  1990.213208  0.382152           6.479632 -0.000803  0.001463   \n",
      "199  2000.014284  0.381272           6.034650 -0.000905  0.001461   \n",
      "\n",
      "     clique_number  average_clustering  mean_closeness  mean_betweenness  \\\n",
      "0              3.0            0.001436        0.000139      2.054588e-08   \n",
      "1              3.0            0.009798        0.000171      3.911007e-08   \n",
      "2              3.0            0.003472        0.000186      7.283252e-08   \n",
      "3              4.0            0.008821        0.000172      5.556727e-08   \n",
      "4              4.0            0.015829        0.000202      9.449790e-08   \n",
      "..             ...                 ...             ...               ...   \n",
      "195            4.0            0.120933        0.000558      3.183952e-07   \n",
      "196            4.0            0.119005        0.000541      2.914492e-07   \n",
      "197            4.0            0.130369        0.000566      3.166979e-07   \n",
      "198            4.0            0.119411        0.000556      3.332482e-07   \n",
      "199            4.0            0.118066        0.000557      3.243762e-07   \n",
      "\n",
      "     assortativity  \n",
      "0         0.892341  \n",
      "1         0.903483  \n",
      "2         0.893616  \n",
      "3         0.924630  \n",
      "4         0.902335  \n",
      "..             ...  \n",
      "195       0.815143  \n",
      "196       0.808140  \n",
      "197       0.813121  \n",
      "198       0.819382  \n",
      "199       0.810699  \n",
      "\n",
      "[175800 rows x 10 columns]\n"
     ]
    }
   ],
   "source": [
    "path = r'./' \n",
    "all_files = glob.iglob(os.path.join(path, \"*.csv\"))\n",
    "#df_from_each_file = (pd.read_csv(f) for f in all_files)\n",
    "df_con = pd.concat(pd.read_csv(f) for f in all_files)\n",
    "print (df_con)\n",
    "data = df_con.iloc[:,range(1,11)]\n",
    "#data=concatenated_df[concatenated_df.columns[2:11]]\n",
    "print (data)\n",
    "data.to_csv('correlation_data_concatenated.csv')"
   ]
  },
  {
   "cell_type": "code",
   "execution_count": 3,
   "metadata": {},
   "outputs": [
    {
     "ename": "NameError",
     "evalue": "name 'df' is not defined",
     "output_type": "error",
     "traceback": [
      "\u001b[0;31m---------------------------------------------------------------------------\u001b[0m",
      "\u001b[0;31mNameError\u001b[0m                                 Traceback (most recent call last)",
      "\u001b[0;32m<ipython-input-3-fdafab65df30>\u001b[0m in \u001b[0;36m<module>\u001b[0;34m\u001b[0m\n\u001b[0;32m----> 1\u001b[0;31m \u001b[0mdf_corr\u001b[0m\u001b[0;34m=\u001b[0m\u001b[0mdf\u001b[0m\u001b[0;34m.\u001b[0m\u001b[0mcorr\u001b[0m\u001b[0;34m(\u001b[0m\u001b[0mmethod\u001b[0m\u001b[0;34m=\u001b[0m\u001b[0;34m'pearson'\u001b[0m\u001b[0;34m)\u001b[0m\u001b[0;34m\u001b[0m\u001b[0;34m\u001b[0m\u001b[0m\n\u001b[0m\u001b[1;32m      2\u001b[0m \u001b[0mprint\u001b[0m\u001b[0;34m(\u001b[0m\u001b[0mdf_corr\u001b[0m\u001b[0;34m)\u001b[0m\u001b[0;34m\u001b[0m\u001b[0;34m\u001b[0m\u001b[0m\n",
      "\u001b[0;31mNameError\u001b[0m: name 'df' is not defined"
     ]
    }
   ],
   "source": [
    "df_corr=df.corr(method='pearson')\n",
    "print(df_corr)"
   ]
  },
  {
   "cell_type": "code",
   "execution_count": null,
   "metadata": {},
   "outputs": [],
   "source": [
    "sns.set(font_scale=2)\n",
    "fig, ax = plt.subplots(figsize=(10,8))        \n",
    "x_axis_labels = ['Rg','mean\\n'+'displacement','shape','density','clique\\n'+'number','average\\n'+'clustering',\n",
    "                'mean\\n'+'closeness','mean\\n'+'betweenness','assortativity']\n",
    "y_axis_labels = ['Rg','mean\\n'+'displacement','shape','density','clique\\n'+'number','average\\n'+'clustering',\n",
    "                'mean\\n'+'closeness','mean\\n'+'betweenness','assortativity']\n",
    "corr_plot=sns.heatmap(df_corr,cmap = \"RdBu_r\",vmin=-1, vmax=1,linewidths=5,ax=ax,xticklabels=x_axis_labels,\n",
    "                     yticklabels=y_axis_labels)\n",
    "figure = corr_plot.get_figure()    \n",
    "figure.savefig('correlation.png', dpi=1000,bbox_inches = \"tight\")\n"
   ]
  },
  {
   "cell_type": "code",
   "execution_count": null,
   "metadata": {},
   "outputs": [],
   "source": [
    "profile = ProfileReport(df, title=\"Pandas Profiling Report\")\n",
    "profile.to_widgets()"
   ]
  },
  {
   "cell_type": "code",
   "execution_count": null,
   "metadata": {},
   "outputs": [],
   "source": [
    "profile.to_notebook_iframe()"
   ]
  },
  {
   "cell_type": "code",
   "execution_count": null,
   "metadata": {},
   "outputs": [],
   "source": [
    "profile.to_file(\"MEDYAN_correlation.html\")"
   ]
  },
  {
   "cell_type": "code",
   "execution_count": null,
   "metadata": {},
   "outputs": [],
   "source": []
  }
 ],
 "metadata": {
  "kernelspec": {
   "display_name": "Python 3",
   "language": "python",
   "name": "python3"
  },
  "language_info": {
   "codemirror_mode": {
    "name": "ipython",
    "version": 3
   },
   "file_extension": ".py",
   "mimetype": "text/x-python",
   "name": "python",
   "nbconvert_exporter": "python",
   "pygments_lexer": "ipython3",
   "version": "3.7.4"
  }
 },
 "nbformat": 4,
 "nbformat_minor": 2
}
