{
 "cells": [
  {
   "cell_type": "code",
   "execution_count": 1,
   "metadata": {},
   "outputs": [],
   "source": [
    "import numpy as np\n",
    "import seaborn as sb\n",
    "import pandas as pd\n",
    "import matplotlib\n",
    "import matplotlib.pyplot as plt\n",
    "%matplotlib inline\n",
    "import csv"
   ]
  },
  {
   "cell_type": "code",
   "execution_count": 2,
   "metadata": {},
   "outputs": [],
   "source": [
    "run -i AnalyzeTrajectory_graphtheory.py"
   ]
  },
  {
   "cell_type": "code",
   "execution_count": 3,
   "metadata": {
    "scrolled": false
   },
   "outputs": [
    {
     "name": "stdout",
     "output_type": "stream",
     "text": [
      "Reading /home/chengxuan/Desktop/MEDYAN_data/9_23_2019/branched(0.047)/0.5and0.01/Output/snapshot.traj...\n",
      "111 snapshots read.\n"
     ]
    }
   ],
   "source": [
    "snapshotlist1 = readTrajectory('/home/chengxuan/Desktop/MEDYAN_data/9_23_2019/branched(0.047)/0.5and0.01/Output/snapshot.traj')"
   ]
  },
  {
   "cell_type": "code",
   "execution_count": 4,
   "metadata": {},
   "outputs": [
    {
     "name": "stdout",
     "output_type": "stream",
     "text": [
      "               x           y           z\n",
      "0     254.137512  595.553833  252.689911\n",
      "1     259.049835  601.293518  249.768463\n",
      "2     275.424408  620.428650  240.031586\n",
      "3     291.795898  639.593262  230.339462\n",
      "4     308.152771  658.840698  220.785599\n",
      "...          ...         ...         ...\n",
      "2616  701.465942  763.630127  902.864075\n",
      "2617  879.834839  472.655548  616.608887\n",
      "2618  877.593140  474.153320  616.461426\n",
      "2619  740.911560  630.104492  846.146484\n",
      "2620  739.151611  634.912109  844.429077\n",
      "\n",
      "[2621 rows x 3 columns]\n"
     ]
    }
   ],
   "source": [
    "def fcoords(SnapshotList,snapshot):\n",
    "    Snapshot = SnapshotList[snapshot]\n",
    "    Fcoordslist=[]\n",
    "    for filamentid, FS in Snapshot.filaments.items():\n",
    "        for x in FS.coords:\n",
    "            Fcoordslist.append(x)\n",
    "    Fcoordsarray=np.asarray(Fcoordslist)\n",
    "    Fcoordsarraylength=len(Fcoordsarray)\n",
    "    Fcoordsarray=Fcoordsarray.reshape(Fcoordsarraylength//3,3)\n",
    "    df = pd.DataFrame(Fcoordsarray,columns=['x','y','z'])\n",
    "    return (Snapshot.time, df)\n",
    "\n",
    "    \n",
    "fcoords1=fcoords(snapshotlist1,25)\n",
    "print (fcoords1[1])"
   ]
  },
  {
   "cell_type": "code",
   "execution_count": 9,
   "metadata": {},
   "outputs": [
    {
     "name": "stdout",
     "output_type": "stream",
     "text": [
      "[0.012217034653241417, -0.000932695449024299, array([74837.29512324, 65222.37858567, 50663.29981546])]\n"
     ]
    }
   ],
   "source": [
    "def calc_pca(data):\n",
    "    data-=np.mean(data, axis=0)\n",
    "    cov_mat=np.cov(data, rowvar=False)\n",
    "    evals, evecs = np.linalg.eigh(cov_mat)\n",
    "    evecs = evecs[:,:]\n",
    "    evals = evals[:]\n",
    "    variance_retained=np.cumsum(evals)/np.sum(evals)\n",
    "    evecs = evecs[:,:]\n",
    "    return [evecs.T, evals]\n",
    "\n",
    "\"\"\"\n",
    "       get r in Nx3 matrix and returns the delta, S and eigenvalues\n",
    "       as described in https://arxiv.org/abs/q-bio/0310023\n",
    "\"\"\"\n",
    "def calc_shape_params(r):\n",
    "    assert(r.shape[1] == 3 and r.shape[0] >= r.shape[1])\n",
    "    _, eigenvalues = calc_pca(r)\n",
    "    lambda_bar = np.mean(eigenvalues)\n",
    "    trT = np.sum(eigenvalues)\n",
    "    # asphericity equation 2 in https://arxiv.org/abs/q-bio/0310023\n",
    "    delta = 1.5 * np.true_divide(np.sum([np.power(lambda_i - lambda_bar,2) for lambda_i in eigenvalues]), np.power(trT,2))\n",
    "    # shape equation 3 in https://arxiv.org/abs/q-bio/0310023\n",
    "    S = 27 * np.true_divide(np.prod([lambda_i - lambda_bar for lambda_i in eigenvalues]),\n",
    "                           np.power(trT,3))\n",
    "    return [delta, S, eigenvalues[::-1]]\n",
    "\n",
    "shape=calc_shape_params(fcoords1[1])\n",
    "print (shape)"
   ]
  },
  {
   "cell_type": "code",
   "execution_count": 6,
   "metadata": {},
   "outputs": [],
   "source": [
    "run -i AnalyzeTrajectory.py"
   ]
  },
  {
   "cell_type": "code",
   "execution_count": 7,
   "metadata": {},
   "outputs": [
    {
     "name": "stdout",
     "output_type": "stream",
     "text": [
      "Reading /home/chengxuan/Desktop/MEDYAN_data/9_23_2019/branched(0.047)/0.5and0.01/Output/snapshot.traj...\n",
      "111 snapshots read.\n"
     ]
    }
   ],
   "source": [
    "snapshotlist1 = readTrajectory('/home/chengxuan/Desktop/MEDYAN_data/9_23_2019/branched(0.047)/0.5and0.01/Output/snapshot.traj')"
   ]
  },
  {
   "cell_type": "code",
   "execution_count": 8,
   "metadata": {},
   "outputs": [
    {
     "name": "stdout",
     "output_type": "stream",
     "text": [
      "(250.2024494, -0.0009326956726742969)\n"
     ]
    }
   ],
   "source": [
    "S=shapeparameter(snapshotlist1,25)\n",
    "print(S)"
   ]
  },
  {
   "cell_type": "code",
   "execution_count": null,
   "metadata": {},
   "outputs": [],
   "source": []
  }
 ],
 "metadata": {
  "kernelspec": {
   "display_name": "Python 3",
   "language": "python",
   "name": "python3"
  },
  "language_info": {
   "codemirror_mode": {
    "name": "ipython",
    "version": 3
   },
   "file_extension": ".py",
   "mimetype": "text/x-python",
   "name": "python",
   "nbconvert_exporter": "python",
   "pygments_lexer": "ipython3",
   "version": "3.7.4"
  }
 },
 "nbformat": 4,
 "nbformat_minor": 2
}
