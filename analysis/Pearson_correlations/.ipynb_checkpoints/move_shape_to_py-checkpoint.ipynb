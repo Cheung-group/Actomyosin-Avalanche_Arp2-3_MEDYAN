{
 "cells": [
  {
   "cell_type": "code",
   "execution_count": 1,
   "metadata": {},
   "outputs": [],
   "source": [
    "import numpy as np\n",
    "import seaborn as sb\n",
    "import pandas as pd\n",
    "import matplotlib\n",
    "import matplotlib.pyplot as plt\n",
    "%matplotlib inline\n",
    "import csv"
   ]
  },
  {
   "cell_type": "code",
   "execution_count": 2,
   "metadata": {},
   "outputs": [],
   "source": [
    "run -i AnalyzeTrajectory_graphtheory.py"
   ]
  },
  {
   "cell_type": "code",
   "execution_count": 3,
   "metadata": {
    "scrolled": false
   },
   "outputs": [
    {
     "name": "stdout",
     "output_type": "stream",
     "text": [
      "Reading /home/chengxuan/Desktop/MEDYAN_data/9_23_2019/branched(0.047)/0.5and0.01/Output/snapshot.traj...\n",
      "111 snapshots read.\n"
     ]
    }
   ],
   "source": [
    "snapshotlist1 = readTrajectory('/home/chengxuan/Desktop/MEDYAN_data/9_23_2019/branched(0.047)/0.5and0.01/Output/snapshot.traj')"
   ]
  },
  {
   "cell_type": "code",
   "execution_count": 5,
   "metadata": {},
   "outputs": [
    {
     "name": "stdout",
     "output_type": "stream",
     "text": [
      "(500.4747927, -0.007047384301168392)\n"
     ]
    }
   ],
   "source": [
    "print(shape_parameter(snapshotlist1,50))"
   ]
  },
  {
   "cell_type": "code",
   "execution_count": null,
   "metadata": {},
   "outputs": [],
   "source": []
  },
  {
   "cell_type": "code",
   "execution_count": 6,
   "metadata": {},
   "outputs": [],
   "source": [
    "run -i AnalyzeTrajectory.py"
   ]
  },
  {
   "cell_type": "code",
   "execution_count": 7,
   "metadata": {},
   "outputs": [
    {
     "name": "stdout",
     "output_type": "stream",
     "text": [
      "Reading /home/chengxuan/Desktop/MEDYAN_data/9_23_2019/branched(0.047)/0.5and0.01/Output/snapshot.traj...\n",
      "111 snapshots read.\n"
     ]
    }
   ],
   "source": [
    "snapshotlist1 = readTrajectory('/home/chengxuan/Desktop/MEDYAN_data/9_23_2019/branched(0.047)/0.5and0.01/Output/snapshot.traj')"
   ]
  },
  {
   "cell_type": "code",
   "execution_count": 8,
   "metadata": {},
   "outputs": [
    {
     "name": "stdout",
     "output_type": "stream",
     "text": [
      "(250.2024494, -0.0009326956726742969)\n"
     ]
    }
   ],
   "source": [
    "S=shapeparameter(snapshotlist1,25)\n",
    "print(S)"
   ]
  },
  {
   "cell_type": "code",
   "execution_count": null,
   "metadata": {},
   "outputs": [],
   "source": []
  }
 ],
 "metadata": {
  "kernelspec": {
   "display_name": "Python 3",
   "language": "python",
   "name": "python3"
  },
  "language_info": {
   "codemirror_mode": {
    "name": "ipython",
    "version": 3
   },
   "file_extension": ".py",
   "mimetype": "text/x-python",
   "name": "python",
   "nbconvert_exporter": "python",
   "pygments_lexer": "ipython3",
   "version": "3.7.4"
  }
 },
 "nbformat": 4,
 "nbformat_minor": 2
}
