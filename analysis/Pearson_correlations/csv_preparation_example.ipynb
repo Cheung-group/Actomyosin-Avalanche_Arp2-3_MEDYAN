{
 "cells": [
  {
   "cell_type": "code",
   "execution_count": 1,
   "metadata": {},
   "outputs": [],
   "source": [
    "import numpy as np\n",
    "import seaborn as sb\n",
    "import pandas as pd\n",
    "import matplotlib\n",
    "import matplotlib.pyplot as plt\n",
    "%matplotlib inline\n",
    "import csv"
   ]
  },
  {
   "cell_type": "code",
   "execution_count": 2,
   "metadata": {},
   "outputs": [],
   "source": [
    "run -i AnalyzeTrajectory.py"
   ]
  },
  {
   "cell_type": "code",
   "execution_count": 3,
   "metadata": {
    "scrolled": false
   },
   "outputs": [
    {
     "name": "stdout",
     "output_type": "stream",
     "text": [
      "Reading /home/chengxuan/Desktop/MEDYAN_data/9_23_2019/branched(0.047)/0.5and0.01/Output/snapshot.traj...\n",
      "111 snapshots read.\n"
     ]
    }
   ],
   "source": [
    "snapshotlist1 = readTrajectory('/home/chengxuan/Desktop/MEDYAN_data/9_23_2019/branched(0.047)/0.5and0.01/Output/snapshot.traj')"
   ]
  },
  {
   "cell_type": "code",
   "execution_count": 4,
   "metadata": {},
   "outputs": [],
   "source": [
    "Timelist1 = []\n",
    "Rglist1 = []\n",
    "for x in range(1,len(snapshotlist1),1):\n",
    "    y1 = radiusOfGyration(snapshotlist1,x)\n",
    "    Timelist1.append(y1[0])\n",
    "    Rglist1.append(y1[1])\n",
    "    \n",
    "pair1 = meanDisplacement(snapshotlist1)\n",
    "x1=[]\n",
    "y1=[]\n",
    "for p in pair1:\n",
    "    x1.append(p[0])\n",
    "    y1.append(p[1])\n",
    "    absy1=[abs(m) for m in y1]\n",
    "    mx1=x1[1:]\n",
    "    mabsy1=absy1[1:]\n",
    "mabsy1[0]=0"
   ]
  },
  {
   "cell_type": "code",
   "execution_count": 5,
   "metadata": {},
   "outputs": [],
   "source": [
    "run -i AnalyzeTrajectory_graphtheory.py"
   ]
  },
  {
   "cell_type": "code",
   "execution_count": 6,
   "metadata": {},
   "outputs": [
    {
     "name": "stdout",
     "output_type": "stream",
     "text": [
      "Reading /home/chengxuan/Desktop/MEDYAN_data/9_23_2019/branched(0.047)/0.5and0.01/Output/snapshot.traj...\n",
      "111 snapshots read.\n"
     ]
    }
   ],
   "source": [
    "snapshotlist1 = readTrajectory('/home/chengxuan/Desktop/MEDYAN_data/9_23_2019/branched(0.047)/0.5and0.01/Output/snapshot.traj')"
   ]
  },
  {
   "cell_type": "code",
   "execution_count": 7,
   "metadata": {},
   "outputs": [],
   "source": [
    "shapelist1 = []\n",
    "for x in range(1,len(snapshotlist1),1):\n",
    "    y1 = shape_parameter(snapshotlist1,x)\n",
    "    shapelist1.append(y1[1])\n",
    "\n",
    "densitylist1 = []\n",
    "for x in range(1,len(snapshotlist1),1):\n",
    "    y1 = dens(snapshotlist1,x)\n",
    "    densitylist1.append(y1[1])\n",
    "    \n",
    "cliquelist1 = []\n",
    "for x in range(1,len(snapshotlist1),1):\n",
    "    y1 = clique_number(snapshotlist1,x)\n",
    "    cliquelist1.append(y1[1])\n",
    "    \n",
    "ave_clusteringlist1 = []\n",
    "for x in range(1,len(snapshotlist1),1):\n",
    "    y1 = average_clustering(snapshotlist1,x)\n",
    "    ave_clusteringlist1.append(y1[1])\n",
    "\n",
    "mean_closenesslist1 = []\n",
    "for x in range(1,len(snapshotlist1),1):\n",
    "    y1 = closeness_cent(snapshotlist1,x)\n",
    "    mean_closenesslist1.append(y1[1])\n",
    "    \n",
    "mean_betweennesslist1 = []\n",
    "for x in range(1,len(snapshotlist1),1):\n",
    "    y1 = mean_betweenness_cent(snapshotlist1,x)\n",
    "    mean_betweennesslist1.append(y1[1])\n",
    "    \n",
    "assortativitylist1 = []\n",
    "for x in range(1,len(snapshotlist1),1):\n",
    "    y1 = assort(snapshotlist1,x)\n",
    "    assortativitylist1.append(y1[1])"
   ]
  },
  {
   "cell_type": "code",
   "execution_count": 8,
   "metadata": {},
   "outputs": [
    {
     "name": "stdout",
     "output_type": "stream",
     "text": [
      "            Time        rg  mean_displacement     shape   density  \\\n",
      "0      10.002916  0.447418           0.000000 -0.000333  0.001513   \n",
      "1      20.007662  0.446097          12.825796  0.000018  0.001512   \n",
      "2      30.012093  0.445991          18.395843  0.000049  0.001524   \n",
      "3      40.017133  0.442941          13.141632 -0.000611  0.001521   \n",
      "4      50.023468  0.442706          22.008543 -0.001492  0.001529   \n",
      "..           ...       ...                ...       ...       ...   \n",
      "105  1061.109021  0.362271           6.363824 -0.033287  0.001525   \n",
      "106  1071.120033  0.362884           7.088065 -0.034831  0.001522   \n",
      "107  1081.130907  0.362238           6.345833 -0.033740  0.001523   \n",
      "108  1091.141191  0.362705           6.422859 -0.034234  0.001521   \n",
      "109  1101.153605  0.362516           6.323306 -0.033754  0.001523   \n",
      "\n",
      "     clique_number  average_clustering  mean_closeness  mean_betweenness  \\\n",
      "0                5            0.246108        0.000997          0.000003   \n",
      "1                4            0.262361        0.000988          0.000003   \n",
      "2                6            0.267384        0.001022          0.000003   \n",
      "3                5            0.285498        0.001036          0.000003   \n",
      "4                5            0.296437        0.001046          0.000004   \n",
      "..             ...                 ...             ...               ...   \n",
      "105              5            0.321190        0.001136          0.000007   \n",
      "106              5            0.326564        0.001139          0.000007   \n",
      "107              5            0.315372        0.001120          0.000006   \n",
      "108              5            0.335877        0.001110          0.000006   \n",
      "109              5            0.326339        0.001128          0.000008   \n",
      "\n",
      "     assortativity  \n",
      "0         0.682815  \n",
      "1         0.711185  \n",
      "2         0.713105  \n",
      "3         0.721000  \n",
      "4         0.708371  \n",
      "..             ...  \n",
      "105       0.684866  \n",
      "106       0.670301  \n",
      "107       0.692691  \n",
      "108       0.682240  \n",
      "109       0.689744  \n",
      "\n",
      "[110 rows x 10 columns]\n"
     ]
    }
   ],
   "source": [
    "data={'Time': Timelist1, \n",
    "     'rg': Rglist1,\n",
    "     'mean_displacement': mabsy1,\n",
    "     'shape':shapelist1,\n",
    "     'density': densitylist1,\n",
    "     'clique_number': cliquelist1,\n",
    "     'average_clustering': ave_clusteringlist1,\n",
    "     'mean_closeness':mean_closenesslist1,\n",
    "     'mean_betweenness':mean_betweennesslist1,\n",
    "     'assortativity':assortativitylist1}\n",
    "df=pd.DataFrame(data)\n",
    "print(df)"
   ]
  },
  {
   "cell_type": "code",
   "execution_count": 9,
   "metadata": {},
   "outputs": [],
   "source": [
    "df.to_csv('correlation_avalanche.csv')"
   ]
  },
  {
   "cell_type": "code",
   "execution_count": null,
   "metadata": {},
   "outputs": [],
   "source": []
  }
 ],
 "metadata": {
  "kernelspec": {
   "display_name": "Python 3",
   "language": "python",
   "name": "python3"
  },
  "language_info": {
   "codemirror_mode": {
    "name": "ipython",
    "version": 3
   },
   "file_extension": ".py",
   "mimetype": "text/x-python",
   "name": "python",
   "nbconvert_exporter": "python",
   "pygments_lexer": "ipython3",
   "version": "3.7.4"
  }
 },
 "nbformat": 4,
 "nbformat_minor": 2
}
